{
 "cells": [
  {
   "cell_type": "code",
   "execution_count": 32,
   "metadata": {},
   "outputs": [
    {
     "name": "stderr",
     "output_type": "stream",
     "text": [
      "Seed set to 42\n"
     ]
    },
    {
     "name": "stdout",
     "output_type": "stream",
     "text": [
      "Files already downloaded and verified\n"
     ]
    }
   ],
   "source": [
    "from torchvision.datasets import CIFAR100\n",
    "import os\n",
    "import torch.utils.data\n",
    "import lightning as L\n",
    "L.seed_everything(42)\n",
    "DATASET_PATH = os.environ.get(\"PATH_DATASETS\", \"~/datasets/\")\n",
    "train_dataset = CIFAR100(root=DATASET_PATH, train=True, transform=None, download=True)\n",
    "train_dataset, val_dataset = torch.utils.data.random_split(train_dataset, [0.9, 0.1])"
   ]
  },
  {
   "cell_type": "code",
   "execution_count": 20,
   "metadata": {},
   "outputs": [
    {
     "data": {
      "text/plain": [
       "torchvision.datasets.cifar.CIFAR100"
      ]
     },
     "execution_count": 20,
     "metadata": {},
     "output_type": "execute_result"
    }
   ],
   "source": [
    "type(train_dataset)\n",
    "type(train_dataset.dataset)"
   ]
  },
  {
   "cell_type": "code",
   "execution_count": 36,
   "metadata": {},
   "outputs": [
    {
     "name": "stderr",
     "output_type": "stream",
     "text": [
      "/home/ai_pitch_perfector/program_files/managers/conda/lib/python3.10/site-packages/torchvision/transforms/v2/_deprecated.py:42: UserWarning: The transform `ToTensor()` is deprecated and will be removed in a future release. Instead, please use `v2.Compose([v2.ToImage(), v2.ToDtype(torch.float32, scale=True)])`.Output is equivalent up to float precision.\n",
      "  warnings.warn(\n"
     ]
    },
    {
     "data": {
      "text/plain": [
       "(tensor([[[0.8902, 0.8118, 0.7725,  ..., 0.5569, 0.6510, 0.6078],\n",
       "          [0.9294, 0.9020, 0.8471,  ..., 0.5490, 0.6314, 0.5725],\n",
       "          [0.9333, 0.9294, 0.8471,  ..., 0.4824, 0.5098, 0.4902],\n",
       "          ...,\n",
       "          [0.5373, 0.5059, 0.6706,  ..., 0.2941, 0.1765, 0.1176],\n",
       "          [0.5020, 0.6118, 0.7176,  ..., 0.3255, 0.2000, 0.1098],\n",
       "          [0.6549, 0.7098, 0.7490,  ..., 0.2706, 0.1882, 0.1098]],\n",
       " \n",
       "         [[0.7137, 0.6392, 0.5843,  ..., 0.4118, 0.4980, 0.4784],\n",
       "          [0.7333, 0.7216, 0.6549,  ..., 0.4157, 0.4902, 0.4431],\n",
       "          [0.7373, 0.7412, 0.6549,  ..., 0.3765, 0.3922, 0.3843],\n",
       "          ...,\n",
       "          [0.4431, 0.3922, 0.5255,  ..., 0.2588, 0.1725, 0.1137],\n",
       "          [0.4196, 0.5020, 0.5961,  ..., 0.3020, 0.1922, 0.1098],\n",
       "          [0.5490, 0.5804, 0.6000,  ..., 0.2510, 0.1843, 0.1176]],\n",
       " \n",
       "         [[0.2588, 0.1961, 0.1647,  ..., 0.0745, 0.0980, 0.1020],\n",
       "          [0.2745, 0.2784, 0.2118,  ..., 0.0745, 0.0902, 0.0902],\n",
       "          [0.2824, 0.2824, 0.2118,  ..., 0.0784, 0.0824, 0.0784],\n",
       "          ...,\n",
       "          [0.1059, 0.0941, 0.1255,  ..., 0.0667, 0.0588, 0.0588],\n",
       "          [0.0941, 0.1490, 0.1882,  ..., 0.0706, 0.0510, 0.0588],\n",
       "          [0.1725, 0.1569, 0.1725,  ..., 0.0471, 0.0471, 0.0588]]]),\n",
       " 32)"
      ]
     },
     "execution_count": 36,
     "metadata": {},
     "output_type": "execute_result"
    }
   ],
   "source": [
    "train_dataset[0]\n",
    "from torchvision.transforms import v2\n",
    "import torch\n",
    "train_dataset.dataset.transform = v2.Compose([\n",
    "                                      v2.ToTensor(),\n",
    "    # v2.ToImage(), \n",
    "    # v2.ToDtype(torch.float32, scale=True) # scale 到 0-1\n",
    "    ])\n",
    "train_dataset.dataset.target_transform = None\n",
    "train_dataset[0]"
   ]
  },
  {
   "cell_type": "code",
   "execution_count": 28,
   "metadata": {},
   "outputs": [
    {
     "data": {
      "text/plain": [
       "(array([0.50707516, 0.48654887, 0.44091784]),\n",
       " array([0.26733429, 0.25643846, 0.27615047]))"
      ]
     },
     "execution_count": 28,
     "metadata": {},
     "output_type": "execute_result"
    }
   ],
   "source": [
    "train_dataset[0][0].shape\n",
    "# 计算整个数据集像素点channel的平均值和标准差\n",
    "import numpy as np\n",
    "mean = np.mean(train_dataset.dataset.data/255, axis=(0,1,2))\n",
    "std = np.std(train_dataset.dataset.data/255, axis=(0,1,2))\n",
    "mean, std"
   ]
  },
  {
   "cell_type": "code",
   "execution_count": 31,
   "metadata": {},
   "outputs": [
    {
     "name": "stdout",
     "output_type": "stream",
     "text": [
      "Files already downloaded and verified\n"
     ]
    },
    {
     "data": {
      "text/plain": [
       "(<PIL.Image.Image image mode=RGB size=32x32>, 49)"
      ]
     },
     "execution_count": 31,
     "metadata": {},
     "output_type": "execute_result"
    }
   ],
   "source": [
    "test_dataset = CIFAR100(root=DATASET_PATH, train=False, transform=None, download=True)\n",
    "test_dataset[0]"
   ]
  },
  {
   "cell_type": "code",
   "execution_count": 38,
   "metadata": {},
   "outputs": [
    {
     "data": {
      "image/png": "[encoded data removed]",
      "text/plain": [
       "<Figure size 800x800 with 1 Axes>"
      ]
     },
     "metadata": {},
     "output_type": "display_data"
    }
   ],
   "source": [
    "import torchvision\n",
    "NUM_IMAGES = 4\n",
    "CIFAR_images = torch.stack([train_dataset[idx][0] for idx in range(NUM_IMAGES)], dim=0)\n",
    "img_grid = torchvision.utils.make_grid(CIFAR_images, nrow=4, normalize=True, pad_value=0.9)\n",
    "img_grid = img_grid.permute(1, 2, 0)\n",
    "from matplotlib import pyplot as plt\n",
    "plt.figure(figsize=(8, 8))\n",
    "plt.title(\"Image examples of the CIFAR10 dataset\")\n",
    "plt.imshow(img_grid)\n",
    "plt.axis(\"off\")\n",
    "plt.show()"
   ]
  },
  {
   "cell_type": "code",
   "execution_count": null,
   "metadata": {},
   "outputs": [],
   "source": []
  }
 ],
 "metadata": {
  "kernelspec": {
   "display_name": "base",
   "language": "python",
   "name": "python3"
  },
  "language_info": {
   "codemirror_mode": {
    "name": "ipython",
    "version": 3
   },
   "file_extension": ".py",
   "mimetype": "text/x-python",
   "name": "python",
   "nbconvert_exporter": "python",
   "pygments_lexer": "ipython3",
   "version": "3.10.14"
  }
 },
 "nbformat": 4,
 "nbformat_minor": 2
}
